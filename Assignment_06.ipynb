{
  "nbformat": 4,
  "nbformat_minor": 0,
  "metadata": {
    "colab": {
      "provenance": [],
      "authorship_tag": "ABX9TyMi9YqWYuu7fgXSjlCmCBfq",
      "include_colab_link": true
    },
    "kernelspec": {
      "name": "python3",
      "display_name": "Python 3"
    },
    "language_info": {
      "name": "python"
    }
  },
  "cells": [
    {
      "cell_type": "markdown",
      "metadata": {
        "id": "view-in-github",
        "colab_type": "text"
      },
      "source": [
        "<a href=\"https://colab.research.google.com/github/krishkumar2006/Assignment_6_oops/blob/main/Assignment_06.ipynb\" target=\"_parent\"><img src=\"https://colab.research.google.com/assets/colab-badge.svg\" alt=\"Open In Colab\"/></a>"
      ]
    },
    {
      "cell_type": "markdown",
      "source": [
        "1. Using self\n",
        "\n",
        "Assignment:\n",
        "\n",
        "Create a class Student with attributes name and marks. Use the self keyword to initialize these values via a constructor. Add a method display() that prints student details."
      ],
      "metadata": {
        "id": "guxIP63n9Cqf"
      }
    },
    {
      "cell_type": "code",
      "source": [
        "class Student:\n",
        "  #constructor\n",
        "  def __init__(self , name  , marks):\n",
        "    self.name = name\n",
        "    self.marks = marks\n",
        "#method\n",
        "  def display(self):\n",
        "   print(\"Name:\" , self.name)\n",
        "   print(\"Marks:\" , self.marks)\n",
        "\n",
        "#student is object or instance of a class\n",
        "student = Student(\"krish\" , \"100\")\n",
        "student.display()"
      ],
      "metadata": {
        "colab": {
          "base_uri": "https://localhost:8080/"
        },
        "id": "Vl9Cpr1H9QPr",
        "outputId": "d1689221-224f-4f0c-bc9c-8fa2cf393137"
      },
      "execution_count": null,
      "outputs": [
        {
          "output_type": "stream",
          "name": "stdout",
          "text": [
            "Name: krish\n",
            "Marks: 100\n"
          ]
        }
      ]
    },
    {
      "cell_type": "markdown",
      "source": [
        "2. Using cls\n",
        "\n",
        "Assignment:\n",
        "Create a class Counter that keeps track of how many objects have been created. Use a class variable and a class method with cls to manage and display the count."
      ],
      "metadata": {
        "id": "IggJcmSRBREi"
      }
    },
    {
      "cell_type": "code",
      "source": [
        "class Counter:\n",
        "  Count = 0\n",
        "\n",
        "  def __init__(self):\n",
        "    Counter.Count += 1\n",
        "\n",
        "  @classmethod\n",
        "  def show_count(cls):\n",
        "    print(\"Total objects created:\" , cls.Count)\n",
        "\n",
        "#creating object\n",
        "obj1 = Counter()\n",
        "obj2 = Counter()\n",
        "obj3 = Counter()\n",
        "\n",
        "\n",
        "Counter.show_count()\n",
        "\n",
        "\n"
      ],
      "metadata": {
        "id": "l1dMo_nTBsQO",
        "colab": {
          "base_uri": "https://localhost:8080/"
        },
        "outputId": "9049df36-4a20-4e0c-9bba-9bd1d7378dc3"
      },
      "execution_count": null,
      "outputs": [
        {
          "output_type": "stream",
          "name": "stdout",
          "text": [
            "Total objects created: 3\n",
            "Total objects created: 3\n"
          ]
        }
      ]
    },
    {
      "cell_type": "markdown",
      "source": [
        "3. Public Variables and Methods\n",
        "\n",
        "Assignment:\n",
        "Create a class Car with a public variable brand and a public method start(). Instantiate the class and access both from outside the class."
      ],
      "metadata": {
        "id": "1omgcWzNIa4j"
      }
    },
    {
      "cell_type": "code",
      "source": [
        "class Car:\n",
        "  def __init__(self , brand):\n",
        "    self.brand = brand\n",
        "\n",
        "#public method\n",
        "  def start(self):\n",
        "    print(\"car has started...\")\n",
        "\n",
        "#car1 is object here\n",
        "car1 = Car(\"Audi\")\n",
        "\n",
        "#public variable accessing\n",
        "print(car1.brand)\n",
        "\n",
        "#accessing public method\n",
        "car1.start()"
      ],
      "metadata": {
        "colab": {
          "base_uri": "https://localhost:8080/"
        },
        "id": "4jJNxX2IIjqt",
        "outputId": "6c9d9572-0cb6-49fd-ba60-b66bcb1c8241"
      },
      "execution_count": null,
      "outputs": [
        {
          "output_type": "stream",
          "name": "stdout",
          "text": [
            "Audi\n",
            "car has started...\n"
          ]
        }
      ]
    },
    {
      "cell_type": "markdown",
      "source": [
        "4. Class Variables and Class Methods\n",
        "\n",
        "Assignment:\n",
        "Create a class Bank with a class variable bank_name. Add a class method change_bank_name(cls, name) that allows changing the bank name. Show that it affects all instances."
      ],
      "metadata": {
        "id": "Vr5OI7MoM7CK"
      }
    },
    {
      "cell_type": "code",
      "source": [
        "class Bank:\n",
        "  #class variable\n",
        "  Bank_name = \"HBL\"\n",
        "  @classmethod\n",
        "  def change_bank_name(cls , name):\n",
        "    cls.Bank_name = name\n",
        "\n",
        "#creating object\n",
        "Bank1 = Bank()\n",
        "print(Bank1.Bank_name)\n",
        "\n",
        "#changing bank name\n",
        "Bank.change_bank_name(\"meezan\")\n",
        "print(\"Bank name has been changed to\" ,Bank1.Bank_name)\n",
        "\n"
      ],
      "metadata": {
        "colab": {
          "base_uri": "https://localhost:8080/"
        },
        "id": "rayqelifNAsm",
        "outputId": "717b630c-0ca3-46cd-c66d-4fc71529bf40"
      },
      "execution_count": null,
      "outputs": [
        {
          "output_type": "stream",
          "name": "stdout",
          "text": [
            "HBL\n",
            "Bank name has been changed to meezan\n"
          ]
        }
      ]
    },
    {
      "cell_type": "markdown",
      "source": [
        "5. Static Variables and Static Methods\n",
        "Assignment:\n",
        "Create a class MathUtils with a static method add(a, b) that returns the sum. No class or instance variables should be used."
      ],
      "metadata": {
        "id": "Am3ToW8KPQe9"
      }
    },
    {
      "cell_type": "code",
      "source": [
        "class MathUtils:\n",
        "  @staticmethod\n",
        "  def add(A , B):\n",
        "    return(A + B)\n",
        "\n",
        "#creating object\n",
        "Math = MathUtils()\n",
        "print(Math.add(10 , 20))\n",
        "\n"
      ],
      "metadata": {
        "colab": {
          "base_uri": "https://localhost:8080/"
        },
        "id": "oswuVZEzPT3l",
        "outputId": "33dd9278-8716-4d5c-a06b-655764b9fa1d"
      },
      "execution_count": null,
      "outputs": [
        {
          "output_type": "stream",
          "name": "stdout",
          "text": [
            "30\n"
          ]
        }
      ]
    },
    {
      "cell_type": "markdown",
      "source": [
        "6. Constructors and Destructors\n",
        "\n",
        "Assignment:\n",
        "Create a class Logger that prints a message when an object is created (constructor) and another message when it is destroyed (destructor)."
      ],
      "metadata": {
        "id": "wSc8leg4dW9h"
      }
    },
    {
      "cell_type": "code",
      "source": [
        "class Logger:\n",
        "\n",
        "  #Constructor\n",
        "  def __init__(self):\n",
        "    print(\"Object has been created\")\n",
        "\n",
        "  #Destructor\n",
        "  def __del__(self):\n",
        "    print(\"object has been destroyed\")\n",
        "\n",
        "# Creating Object for class\n",
        "logger = Logger()\n",
        "\n",
        "#Delete logger\n",
        "del logger\n",
        "\n"
      ],
      "metadata": {
        "colab": {
          "base_uri": "https://localhost:8080/"
        },
        "id": "YK0o1kz7dckj",
        "outputId": "0e93583b-3cc1-4321-b48e-a1950252f894"
      },
      "execution_count": null,
      "outputs": [
        {
          "output_type": "stream",
          "name": "stdout",
          "text": [
            "Object has been created\n",
            "object has been destroyed\n"
          ]
        }
      ]
    },
    {
      "cell_type": "markdown",
      "source": [
        "7. Access Modifiers: Public, Private, and Protected\n",
        "Assignment:\n",
        "Create a class Employee with:\n",
        "\n",
        "a public variable name,\n",
        "\n",
        "a protected variable _salary, and\n",
        "\n",
        "a private variable __ssn.\n",
        "\n",
        "Try accessing all three variables from an object of the class and document what happens."
      ],
      "metadata": {
        "id": "QMC062P7f9ZI"
      }
    },
    {
      "cell_type": "code",
      "source": [
        "class Employee:\n",
        "  def __init__(self , name , salary , ssn):\n",
        "    self.name = name #public variable\n",
        "    self._salary = salary #Protected variable\n",
        "    self.__ssn = ssn #private variable\n",
        "\n",
        "Employe = Employee(\"krish\" , 5000 , \"123-456-76\")\n",
        "print(\"Name:\" , Employe.name) #public variable\n",
        "print(\"Salary\" , Employe._salary) #protected variable\n",
        "\n",
        "#private variable cannot be accessed directly outside the class\n",
        "try:\n",
        " print(\"SSN\" , Employe.__ssn) #private variable\n",
        "except AttributeError as e:\n",
        "  print(\"Error\" , e)\n",
        "\n",
        "#Accessiing private variable via name mangling\n",
        "print(\"SSN(Via name mangling):\" , Employe._Employee__ssn)"
      ],
      "metadata": {
        "id": "bAozRCdzf_db"
      },
      "execution_count": null,
      "outputs": []
    },
    {
      "cell_type": "markdown",
      "source": [
        "8. The super() Function\n",
        "Assignment:\n",
        "Create a class Person with a constructor that sets the name. Inherit a class Teacher from it, add a subject field, and use super() to call the base class constructor."
      ],
      "metadata": {
        "id": "9Dn0_Cq7kSry"
      }
    },
    {
      "cell_type": "code",
      "source": [
        "\n",
        "class Person:\n",
        "  def __init__(self , name):\n",
        "    self.name = name\n",
        "\n",
        "class Teacher(Person):\n",
        "  def __init__(self ,name , subject_field):\n",
        "\n",
        "    super().__init__( name)\n",
        "    self.subject_field = subject_field\n",
        "\n",
        "#object\n",
        "Teach = Teacher(\"Vikrant\" , \"commerce\" )\n",
        "print(\"Name:\" , Teach.name)\n",
        "print(\"Subject Field:\" , Teach.subject_field)\n",
        "\n"
      ],
      "metadata": {
        "id": "ZtZG4B-hnI9L",
        "colab": {
          "base_uri": "https://localhost:8080/"
        },
        "outputId": "1be8ec23-2d36-4441-cb0e-6edc9c1443ab"
      },
      "execution_count": null,
      "outputs": [
        {
          "output_type": "stream",
          "name": "stdout",
          "text": [
            "Name: Vikrant\n",
            "Subject Field: commerce\n"
          ]
        }
      ]
    },
    {
      "cell_type": "markdown",
      "source": [
        "9. Abstract Classes and Methods\n",
        "\n",
        "Assignment:\n",
        "Use the abc module to create an abstract class Shape with an abstract method area(). Inherit a class Rectangle that implements area()."
      ],
      "metadata": {
        "id": "ACoHgs-elpRN"
      }
    },
    {
      "cell_type": "code",
      "source": [
        "from abc import ABC , abstractmethod\n",
        "class Shape(ABC):\n",
        "  @abstractmethod\n",
        "  def area(self):\n",
        "    pass\n",
        "\n",
        "class Rectangle(Shape) :\n",
        "  def __init__(self , width , height):\n",
        "    self.width = width\n",
        "    self.height = height\n",
        "\n",
        "  def area(self)  :\n",
        "    return self.width * self.height\n",
        "\n",
        "rectangle = Rectangle(10 , 23)\n",
        "print(f\"The area of rectangle is\" , rectangle.area())\n"
      ],
      "metadata": {
        "colab": {
          "base_uri": "https://localhost:8080/"
        },
        "id": "kljzbKjQltJF",
        "outputId": "80e593e1-2ce0-42e2-884b-90e37eceb92c"
      },
      "execution_count": null,
      "outputs": [
        {
          "output_type": "stream",
          "name": "stdout",
          "text": [
            "The area of rectangle is 230\n"
          ]
        }
      ]
    },
    {
      "cell_type": "markdown",
      "source": [
        "10. Instance Methods\n",
        "\n",
        "Assignment:\n",
        "Create a class Dog with instance variables name and breed. Add an instance method bark() that prints a message including the dog's name."
      ],
      "metadata": {
        "id": "OQ2yi-M5ri2j"
      }
    },
    {
      "cell_type": "code",
      "source": [
        "class Dog:\n",
        "  def __init__(self , name , breed):\n",
        "    self.name = name #instance variable\n",
        "    self.breed = breed #instance variable\n",
        "\n",
        "    #instance method\n",
        "  def bark(self):\n",
        "    print(f\"{self.name} is barking\")\n",
        "\n",
        "dog = Dog(\"Tommy\" , \"Bulldog\")\n",
        "print(\"Name:\" , dog.name)\n",
        "print(\"Breed:\" , dog.breed)\n",
        "dog.bark()"
      ],
      "metadata": {
        "colab": {
          "base_uri": "https://localhost:8080/"
        },
        "id": "vB7AmTarscJH",
        "outputId": "c49fc6a4-aabb-41cd-d68c-91ed831a8e0a"
      },
      "execution_count": null,
      "outputs": [
        {
          "output_type": "stream",
          "name": "stdout",
          "text": [
            "Name: Tommy\n",
            "Breed: Bulldog\n",
            "Tommy is barking\n"
          ]
        }
      ]
    },
    {
      "cell_type": "markdown",
      "source": [
        "11. Class Methods\n",
        "\n",
        "Assignment:\n",
        "Create a class Book with a class variable total_books. Add a class method increment_book_count() to increase the count when a new book is added."
      ],
      "metadata": {
        "id": "zN3k5EzMvS13"
      }
    },
    {
      "cell_type": "code",
      "source": [
        "class Book:\n",
        "  #class variable\n",
        "  Total_books = 0\n",
        "\n",
        "  @classmethod\n",
        "  def increment_book_count(cls):\n",
        "    Book.Total_books += 1\n",
        "\n",
        "#adding books\n",
        "Book.increment_book_count()\n",
        "Book.increment_book_count()\n",
        "Book.increment_book_count()\n",
        "print(\"Total Books:\" , Book.Total_books)\n"
      ],
      "metadata": {
        "colab": {
          "base_uri": "https://localhost:8080/"
        },
        "id": "JScsG0AyvZAT",
        "outputId": "196a5152-e50a-42fe-8c03-3d1ba62b2925"
      },
      "execution_count": null,
      "outputs": [
        {
          "output_type": "stream",
          "name": "stdout",
          "text": [
            "Total Books: 3\n"
          ]
        }
      ]
    },
    {
      "cell_type": "markdown",
      "source": [
        "12. Static Methods\n",
        "\n",
        "Assignment:\n",
        "Create a class TemperatureConverter with a static method celsius_to_fahrenheit(c) that returns the Fahrenheit value."
      ],
      "metadata": {
        "id": "sleYMoMjCprs"
      }
    },
    {
      "cell_type": "code",
      "source": [
        "class TemperatureConverter:\n",
        "  #staticmethod\n",
        "  @staticmethod\n",
        "  def  celsius_to_fahrenheit(c):\n",
        "    return c * 9/5 + 32\n",
        "\n",
        "#input\n",
        "celsius = int(input(\"Enter your temperature in celsius:\"))\n",
        "Farenheit = TemperatureConverter.celsius_to_fahrenheit(celsius)\n",
        "print(f\"{celsius}C is equal to {Farenheit}F\")\n"
      ],
      "metadata": {
        "colab": {
          "base_uri": "https://localhost:8080/"
        },
        "id": "SaPEqhEbCuNw",
        "outputId": "74d10b29-1fc5-488f-fc39-223661ac5082"
      },
      "execution_count": null,
      "outputs": [
        {
          "output_type": "stream",
          "name": "stdout",
          "text": [
            "Enter your temperature in celsius99\n",
            "99C is equal to 210.2F\n"
          ]
        }
      ]
    },
    {
      "cell_type": "markdown",
      "source": [
        "13. Composition\n",
        "\n",
        "Assignment:\n",
        "Create a class Engine and a class Car. Use composition by passing an Engine object to the Car class during initialization. Access a method of the Engine class via the Car class."
      ],
      "metadata": {
        "id": "vsEC54ORGue-"
      }
    },
    {
      "cell_type": "code",
      "source": [
        "class Engine:\n",
        "  def start(self):\n",
        "    print(\"Engine has started...\")\n",
        "\n",
        "class Car:\n",
        "  def __init__(self, engine):\n",
        "    self.engine = engine #composition\n",
        "\n",
        "  def start(self):\n",
        "    print(\"car has started..\")\n",
        "    self.engine.start()\n",
        "\n",
        "#creating object of Engine class\n",
        "My_engine = Engine()\n",
        "\n",
        "#creating car object and passing object of engine in it\n",
        "my_car = Car(My_engine)\n",
        "\n",
        "#calling car start method\n",
        "my_car.start()\n"
      ],
      "metadata": {
        "colab": {
          "base_uri": "https://localhost:8080/"
        },
        "id": "czl0FBkCGzNA",
        "outputId": "cb6846db-90cc-4b12-92b1-9b3a2464b933"
      },
      "execution_count": null,
      "outputs": [
        {
          "output_type": "stream",
          "name": "stdout",
          "text": [
            "car has started..\n",
            "Engine has started...\n"
          ]
        }
      ]
    },
    {
      "cell_type": "markdown",
      "source": [
        "14. Aggregation\n",
        "\n",
        "Assignment:\n",
        "Create a class Department and a class Employee. Use aggregation by having a Department object store a reference to an Employee object that exists independently of it."
      ],
      "metadata": {
        "id": "L_HHPbpYSDyp"
      }
    },
    {
      "cell_type": "code",
      "source": [
        "class Teacher:\n",
        "    def __init__(self, name):\n",
        "        self.name = name\n",
        "\n",
        "    def teach(self):\n",
        "        print(f\"{self.name} is teaching.\")\n",
        "\n",
        "class School:\n",
        "    def __init__(self, name, teacher):\n",
        "        self.name = name\n",
        "        self.teacher = teacher  # Aggregation: using Teacher object\n",
        "\n",
        "    def start_class(self):\n",
        "        print(f\"School: {self.name} is starting a class.\")\n",
        "        self.teacher.teach()\n",
        "\n",
        "# Create a teacher (independent object)\n",
        "t1 = Teacher(\"Ahmed\")\n",
        "\n",
        "# Create a school and pass the teacher (aggregation)\n",
        "s1 = School(\"Green Valley School\", t1)\n",
        "\n",
        "# Call method\n",
        "s1.start_class()\n"
      ],
      "metadata": {
        "colab": {
          "base_uri": "https://localhost:8080/"
        },
        "id": "14OV0N94t5Xv",
        "outputId": "146ce4bf-4f73-43a8-e919-c5c56408f596"
      },
      "execution_count": null,
      "outputs": [
        {
          "output_type": "stream",
          "name": "stdout",
          "text": [
            "School: Green Valley School is starting a class.\n",
            "Ahmed is teaching.\n"
          ]
        }
      ]
    },
    {
      "cell_type": "markdown",
      "source": [
        "15. Method Resolution Order (MRO) and Diamond Inheritance\n",
        "Assignment:\n",
        "Create four classes:\n",
        "\n",
        "A with a method show(),\n",
        "\n",
        "B and C that inherit from A and override show(),\n",
        "\n",
        "D that inherits from both B and C.\n",
        "\n",
        "Create an object of D and call show() to observe MRO."
      ],
      "metadata": {
        "id": "QcONUTNPvWvL"
      }
    },
    {
      "cell_type": "code",
      "source": [
        "class A:\n",
        "  def show(self):\n",
        "    print(\"Show class A\")\n",
        "\n",
        "class B(A):\n",
        "  def show(self):\n",
        "    print(\"show class B\")\n",
        "\n",
        "class C(A):\n",
        "  def show(self):\n",
        "    print(\"show class c\")\n",
        "\n",
        "class D(B , C):\n",
        "    pass\n",
        "\n",
        "#creating object for class D\n",
        "d = D()\n",
        "\n",
        "#calling the show() method\n",
        "d.show()\n",
        "\n",
        "#printing the MRO to observe the order\n",
        "print(D.mro())\n"
      ],
      "metadata": {
        "colab": {
          "base_uri": "https://localhost:8080/"
        },
        "id": "XnT0nSZOxFLr",
        "outputId": "c69b447d-7760-4dd1-8c76-2a7320d6a89b"
      },
      "execution_count": null,
      "outputs": [
        {
          "output_type": "stream",
          "name": "stdout",
          "text": [
            "show class b\n",
            "[<class '__main__.D'>, <class '__main__.B'>, <class '__main__.C'>, <class '__main__.A'>, <class 'object'>]\n"
          ]
        }
      ]
    },
    {
      "cell_type": "markdown",
      "source": [
        "16. Function Decorators\n",
        "\n",
        "Assignment:\n",
        "Write a decorator function log_function_call that prints \"Function is being called\" before a function executes. Apply it to a function say_hello().\n",
        "\n"
      ],
      "metadata": {
        "id": "oSa7lqb20kAw"
      }
    },
    {
      "cell_type": "code",
      "source": [
        "def log_function_call(func): #func represent the function\n",
        "  def wrapper():\n",
        "    print(\"Function is being called\")\n",
        "    func() #original function called\n",
        "  return wrapper\n",
        "\n",
        "@log_function_call\n",
        "def say_hello():\n",
        "  print(\"Hello\")\n",
        "\n",
        "#calling function\n",
        "say_hello()\n",
        "\n"
      ],
      "metadata": {
        "colab": {
          "base_uri": "https://localhost:8080/"
        },
        "id": "CB2yv3E47Aqw",
        "outputId": "91d7b6ee-cc98-4f92-89b7-11eddac9e001"
      },
      "execution_count": null,
      "outputs": [
        {
          "output_type": "stream",
          "name": "stdout",
          "text": [
            "Function is being called\n",
            "Hello\n"
          ]
        }
      ]
    },
    {
      "cell_type": "markdown",
      "source": [
        "17. Class Decorators\n",
        "\n",
        "Assignment:\n",
        "Create a class decorator add_greeting that modifies a class to add a greet() method returning \"Hello from Decorator!\". Apply it to a class Person."
      ],
      "metadata": {
        "id": "LCwxwJ-d9nP7"
      }
    },
    {
      "cell_type": "code",
      "source": [
        "#class decorator\n",
        "def add_greeting(cls):\n",
        "  def greet(self):\n",
        "    print(\"Hello from decorator\")\n",
        "\n",
        "  #Add a greet method to a class\n",
        "  cls.greet = greet\n",
        "  return cls\n",
        "\n",
        "\n",
        "@add_greeting\n",
        "class Person:\n",
        "  def __init__(self, name):\n",
        "   self.name = name\n",
        "\n",
        "\n",
        "#creating object\n",
        "person = Person(\"Ak\")\n",
        "print(\"Name:\" , person.name)\n",
        "person.greet()"
      ],
      "metadata": {
        "colab": {
          "base_uri": "https://localhost:8080/"
        },
        "id": "tpspZUFbAWuW",
        "outputId": "6985eaaa-f4a5-424e-affa-4820c089b503"
      },
      "execution_count": null,
      "outputs": [
        {
          "output_type": "stream",
          "name": "stdout",
          "text": [
            "Name: Ak\n",
            "Hello from decorator\n"
          ]
        }
      ]
    },
    {
      "cell_type": "markdown",
      "source": [
        "18. Property Decorators: @property, @setter, and @deleter\n",
        "Assignment:\n",
        "Create a class Product with a private attribute _price. Use @property to get the price, @price.setter to update it, and @price.deleter to delete it."
      ],
      "metadata": {
        "id": "fmarg6_vClKt"
      }
    },
    {
      "cell_type": "code",
      "source": [
        "class Product:\n",
        "    def __init__(self, price):\n",
        "        self._price = price  # Use _price consistently\n",
        "\n",
        "    @property\n",
        "    def price(self):\n",
        "        print(\"Getting the price...\")\n",
        "        return self._price\n",
        "\n",
        "    @price.setter\n",
        "    def price(self, new_price):\n",
        "        print(\"Setting the price...\")\n",
        "        self._price = new_price\n",
        "\n",
        "    @price.deleter\n",
        "    def price(self):\n",
        "        print(\"Deleting the price...\")\n",
        "        del self._price\n",
        "\n",
        "# Create object\n",
        "p = Product(100)\n",
        "\n",
        "# Get price\n",
        "print(\"Price:\", p.price)\n",
        "\n",
        "# Set new price\n",
        "p.price = 150\n",
        "print(\"Updated Price:\", p.price)\n",
        "\n",
        "# Delete price\n",
        "del p.price\n",
        "\n",
        "\n",
        "\n"
      ],
      "metadata": {
        "colab": {
          "base_uri": "https://localhost:8080/"
        },
        "id": "96QPfoDSDKBh",
        "outputId": "9fa807a2-f4c2-475a-99c3-35deee2cd84b"
      },
      "execution_count": null,
      "outputs": [
        {
          "output_type": "stream",
          "name": "stdout",
          "text": [
            "Getting the price...\n",
            "Price: 100\n",
            "Setting the price...\n",
            "Getting the price...\n",
            "Updated Price: 150\n",
            "Deleting the price...\n"
          ]
        }
      ]
    },
    {
      "cell_type": "markdown",
      "source": [
        "19. callable() and __call__()\n",
        "Assignment:\n",
        "Create a class Multiplier with an __init__() to set a factor. Define a __call__() method that multiplies an input by the factor. Test it with callable() and by calling the object like a function."
      ],
      "metadata": {
        "id": "NcU7BpigI3vV"
      }
    },
    {
      "cell_type": "code",
      "source": [
        "class Multiplier:\n",
        "  def __init__(self , factor):\n",
        "    self.factor = factor\n",
        "  def __call__(self , value):\n",
        "    return value * self.factor\n",
        "\n",
        "#creating object\n",
        "m = Multiplier(10)\n",
        "\n",
        "#TO check if object is callable\n",
        "print(callable(m)) #true\n",
        "\n",
        "#call an object like a function\n",
        "result = m(5) #internally call m.__call__(5)\n",
        "\n",
        "print(result)"
      ],
      "metadata": {
        "id": "ALIsu4yAKdyk",
        "colab": {
          "base_uri": "https://localhost:8080/"
        },
        "outputId": "789caaa1-5564-484e-ae4e-1bbf850d456e"
      },
      "execution_count": 15,
      "outputs": [
        {
          "output_type": "stream",
          "name": "stdout",
          "text": [
            "True\n",
            "50\n"
          ]
        }
      ]
    },
    {
      "cell_type": "markdown",
      "source": [
        "20. Creating a Custom Exception\n",
        "\n",
        "Assignment:\n",
        "Create a custom exception InvalidAgeError. Write a function check_age(age) that raises this exception if age < 18. Handle it with try...except."
      ],
      "metadata": {
        "id": "CWaeKH4H_SqV"
      }
    },
    {
      "cell_type": "code",
      "source": [
        "class InvalidAgeError(Exception):# inheriting exception from exception class\n",
        "  def __init__(self , message = \"Age must be 18 or older\"):\n",
        "    self.message = message\n",
        "    super().__init__(self.message) #\n",
        "\n",
        "# create method to check_age\n",
        "def check_age(age):\n",
        "    if age < 18:\n",
        "      raise InvalidAgeError()\n",
        "    else:\n",
        "      print(f\"Age {age} is valid \")\n",
        "\n",
        "#handling exception\n",
        "try:\n",
        "   age = int(input(\"Enter your age:\"))\n",
        "   check_age(age)\n",
        "except InvalidAgeError as e:\n",
        "  print(\"Error\" , e)\n",
        "except ValueError:\n",
        "  print(\"Invalid input. Please enter a valid age.\")\n",
        "\n"
      ],
      "metadata": {
        "colab": {
          "base_uri": "https://localhost:8080/"
        },
        "id": "ku48wrPd_q4t",
        "outputId": "ad7ea330-e044-4595-e8f6-54dcd0413152"
      },
      "execution_count": 5,
      "outputs": [
        {
          "output_type": "stream",
          "name": "stdout",
          "text": [
            "Enter your age:18\n",
            "Age 18 is valid \n"
          ]
        }
      ]
    },
    {
      "cell_type": "markdown",
      "source": [
        "21. Make a Custom Class Iterable\n",
        "\n",
        "Assignment:\n",
        "Create a class Countdown that takes a start number. Implement __iter__() and __next__() to make the object iterable in a for-loop, counting down to 0.\n"
      ],
      "metadata": {
        "id": "Bi3FFJpIJfwd"
      }
    },
    {
      "cell_type": "code",
      "source": [
        "class Countdown:\n",
        "  def __init__(self , start ):\n",
        "    self.start = start\n",
        "    self.current = start\n",
        "\n",
        "  def __iter__(self):\n",
        "    return self\n",
        "\n",
        "  def __next__(self):\n",
        "    #if current is less than 0 it stop the iteration\n",
        "    if self.current < 0:\n",
        "      raise StopIteration\n",
        "   #Decrease the current by 1\n",
        "    self.current -= 1\n",
        "    return self.current + 1 # add 1 before decrement\n",
        "\n",
        "# creating object\n",
        "count = Countdown(5)\n",
        "\n",
        "#for loop\n",
        "for num in count:\n",
        " print(num)"
      ],
      "metadata": {
        "colab": {
          "base_uri": "https://localhost:8080/"
        },
        "id": "RqZEohZVPeJA",
        "outputId": "617b236e-183d-4fcb-b900-b409b10a961e"
      },
      "execution_count": 14,
      "outputs": [
        {
          "output_type": "stream",
          "name": "stdout",
          "text": [
            "5\n",
            "4\n",
            "3\n",
            "2\n",
            "1\n",
            "0\n"
          ]
        }
      ]
    }
  ]
}